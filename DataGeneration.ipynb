{
 "cells": [
  {
   "cell_type": "code",
   "execution_count": 1,
   "metadata": {},
   "outputs": [],
   "source": [
    "import numpy as np\n",
    "import pandas as pd\n",
    "import seaborn as sns\n",
    "import matplotlib.pyplot as plt"
   ]
  },
  {
   "cell_type": "code",
   "execution_count": 2,
   "metadata": {},
   "outputs": [],
   "source": [
    "# Simulating the Markov Chain for a population of people (Data Generation)\n",
    "\n",
    "def datagen(starting_populations, transition_matrix):\n",
    "\n",
    "    time_steps = transition_matrix.shape[0]\n",
    "    num_states = starting_populations.shape[1]\n",
    "    num_days = starting_populations.shape[0]\n",
    "\n",
    "    states = np.arange(num_states)\n",
    "\n",
    "    populations = []\n",
    "  \n",
    "    for d in range(num_days):\n",
    "        day_d = []\n",
    "        day_d.append(starting_populations[d])\n",
    "        prev_state_pop = starting_populations[d]\n",
    "        \n",
    "        for i in range(time_steps):\n",
    "            states_i = np.zeros((num_states,))\n",
    "            for j in range(transition_matrix[i].shape[0]):\n",
    "                outcomes = np.random.choice(states, size=int(prev_state_pop[j]), p = transition_matrix[i, j])\n",
    "                unique_values, counts = np.unique(outcomes, return_counts=True)\n",
    "                \n",
    "                for x, k in enumerate(unique_values):\n",
    "                    states_i[k] += counts[x]\n",
    "                \n",
    "            # print(\"Populations at \", i+1, \" o' clock, on day \", d, \": \", states_i)\n",
    "            day_d.append(states_i)\n",
    "            prev_state_pop = states_i\n",
    "        populations.append(day_d)\n",
    "        \n",
    "    return np.array(populations)"
   ]
  },
  {
   "cell_type": "code",
   "execution_count": 3,
   "metadata": {},
   "outputs": [
    {
     "name": "stdout",
     "output_type": "stream",
     "text": [
      "Generated data points:\n",
      " [[1473  425 1089]\n",
      " [2020  115  901]\n",
      " [1265  599 1159]\n",
      " [1382   11 1578]\n",
      " [  95   29 2901]\n",
      " [2502  266  210]\n",
      " [ 611  942 1471]\n",
      " [1530 1027  435]\n",
      " [1589  154 1297]\n",
      " [ 215 2111  673]]\n",
      "Sum of features in each data point: [2987 3036 3023 2971 3025 2978 3024 2992 3040 2999]\n"
     ]
    }
   ],
   "source": [
    "# Creating the starting populations\n",
    "\n",
    "x = 10  # Number of Datapoints\n",
    "n = 3   # Number of States\n",
    "k = 3000    # Average Total population\n",
    "\n",
    "data_points = np.zeros((x, n), dtype=int)\n",
    "\n",
    "for i in range(x):\n",
    "    err = np.round(np.random.normal(0, 20)) # Adding Gaussian Noise\n",
    "    k_new = k + err\n",
    "    \n",
    "    random_values = np.random.randint(0, k_new, n - 1)\n",
    "    random_values = np.concatenate(([0], random_values, [k_new]))\n",
    "    random_values.sort()\n",
    "\n",
    "    data_points[i] = np.diff(random_values)\n",
    "\n",
    "total_sum = np.sum(data_points, axis=1)\n",
    "\n",
    "print(\"Generated data points:\\n\", data_points)\n",
    "print(\"Sum of features in each data point:\", total_sum)"
   ]
  },
  {
   "cell_type": "code",
   "execution_count": 4,
   "metadata": {},
   "outputs": [
    {
     "name": "stdout",
     "output_type": "stream",
     "text": [
      "(10, 3)\n",
      "(10, 2, 3)\n"
     ]
    }
   ],
   "source": [
    "# data -> (day, time (2), state)\n",
    "\n",
    "starting_populations = data_points\n",
    "print(starting_populations.shape)\n",
    "\n",
    "# Defining the transition matrices at the different times\n",
    "\n",
    "transition_matrix_1 = np.array([[\n",
    "    [0.3, 0.1, 0.6],\n",
    "    [0.1, 0.3, 0.6],\n",
    "    [0.1, 0.1, 0.8]\n",
    "]])\n",
    "\n",
    "transition_matrix_2 = np.array([[\n",
    "    [0.1, 0.4, 0.5],\n",
    "    [0.1, 0.5, 0.4],\n",
    "    [0.1, 0.3, 0.6]\n",
    "]])\n",
    "\n",
    "transition_matrix_3 = np.array([[\n",
    "    [0.15, 0.05, 0.8],\n",
    "    [0.05, 0.15, 0.8],\n",
    "    [0.05, 0.05, 0.9]\n",
    "]])\n",
    "\n",
    "# print(transition_matrix_1.shape)\n",
    "\n",
    "data_1 = datagen(starting_populations, transition_matrix_1)\n",
    "data_2 = datagen(starting_populations, transition_matrix_2)\n",
    "data_3 = datagen(starting_populations, transition_matrix_3)\n",
    "\n",
    "np.save('data_1.npy', data_1)\n",
    "np.save('data_2.npy', data_2)\n",
    "np.save('data_3.npy', data_3)\n",
    "\n",
    "print(data_1.shape)\n"
   ]
  }
 ],
 "metadata": {
  "kernelspec": {
   "display_name": "python3.11_env",
   "language": "python",
   "name": "python3"
  },
  "language_info": {
   "codemirror_mode": {
    "name": "ipython",
    "version": 3
   },
   "file_extension": ".py",
   "mimetype": "text/x-python",
   "name": "python",
   "nbconvert_exporter": "python",
   "pygments_lexer": "ipython3",
   "version": "3.11.0"
  }
 },
 "nbformat": 4,
 "nbformat_minor": 2
}
